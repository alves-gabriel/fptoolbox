{
 "cells": [
  {
   "cell_type": "code",
   "execution_count": 5,
   "id": "7fa2a490-3a01-454f-b2cd-0a0f4b5b1375",
   "metadata": {},
   "outputs": [],
   "source": [
    "import os, sys\n",
    "import numpy as np\n",
    "import scipy as scp\n",
    "\n",
    "# Adds the root directory in the repo to sys.path, so we can import modules as dutoolbox.sub_module...\n",
    "project_root = os.path.abspath(os.path.join(os.getcwd(), '../..'))\n",
    "if project_root not in sys.path:\n",
    "    sys.path.insert(0, project_root)\n",
    "\n",
    "import fptoolbox as fp\n",
    "import fptoolbox.noncrossing as nc"
   ]
  },
  {
   "cell_type": "code",
   "execution_count": 6,
   "id": "79a7bfdd-b6e9-4a00-a8f1-dc8523a651fe",
   "metadata": {},
   "outputs": [
    {
     "data": {
      "text/plain": [
       "[[1, 9], [2, 5, 8], [3, 4], [6, 7]]"
      ]
     },
     "execution_count": 6,
     "metadata": {},
     "output_type": "execute_result"
    }
   ],
   "source": [
    "nc.remove_block([[1, 10], [2, 5, 9], [3, 4], [6], [7, 8]], [6])"
   ]
  },
  {
   "cell_type": "code",
   "execution_count": 7,
   "id": "f3d71bd2-1ea3-4228-8514-5aef2652add0",
   "metadata": {},
   "outputs": [
    {
     "data": {
      "text/plain": [
       "[[1, 7], [2, 3, 6], [4, 5]]"
      ]
     },
     "execution_count": 7,
     "metadata": {},
     "output_type": "execute_result"
    }
   ],
   "source": [
    "nc.remove_block([[1, 9], [2, 5, 8], [3, 4], [6, 7]], [3, 4])"
   ]
  },
  {
   "cell_type": "code",
   "execution_count": 8,
   "id": "0550be5f-ddd8-44ff-823d-51acf06f69dd",
   "metadata": {},
   "outputs": [
    {
     "data": {
      "text/plain": [
       "True"
      ]
     },
     "execution_count": 8,
     "metadata": {},
     "output_type": "execute_result"
    }
   ],
   "source": [
    "nc.is_partition_noncrossing([[1, 10], [2, 5, 9], [3, 4], [6], [7, 8]])"
   ]
  },
  {
   "cell_type": "code",
   "execution_count": 9,
   "id": "3e916018-f0d6-4f59-944c-df08655b9d7d",
   "metadata": {},
   "outputs": [
    {
     "data": {
      "text/plain": [
       "[[[0, 1, 2, 3]],\n",
       " [[0], [1, 2, 3]],\n",
       " [[0, 1], [2, 3]],\n",
       " [[1], [0, 2, 3]],\n",
       " [[0, 1, 2], [3]],\n",
       " [[1, 2], [0, 3]],\n",
       " [[2], [0, 1, 3]],\n",
       " [[0], [1], [2, 3]],\n",
       " [[0], [1, 2], [3]],\n",
       " [[0], [2], [1, 3]],\n",
       " [[0, 1], [2], [3]],\n",
       " [[1], [0, 2], [3]],\n",
       " [[1], [2], [0, 3]],\n",
       " [[0], [1], [2], [3]]]"
      ]
     },
     "execution_count": 9,
     "metadata": {},
     "output_type": "execute_result"
    }
   ],
   "source": [
    "nc.generate_non_crossing(4)"
   ]
  },
  {
   "cell_type": "code",
   "execution_count": 10,
   "id": "a6eb7f49-5815-440d-8b53-a847c8b83cf7",
   "metadata": {},
   "outputs": [],
   "source": [
    "A, B, C, D = np.random.rand(4, 2, 2)"
   ]
  },
  {
   "cell_type": "code",
   "execution_count": 11,
   "id": "33a14633-8d39-4385-b119-d58af65336be",
   "metadata": {},
   "outputs": [
    {
     "data": {
      "text/plain": [
       "np.True_"
      ]
     },
     "execution_count": 11,
     "metadata": {},
     "output_type": "execute_result"
    }
   ],
   "source": [
    "analytical_value = fp.moment([A, B]) - fp.moment([A])*fp.moment([B])\n",
    "np.isclose(fp.free_cumulant([A, B]), analytical_value)"
   ]
  },
  {
   "cell_type": "code",
   "execution_count": 12,
   "id": "8cf92742-513f-4ca0-aadf-ba06ed0ceda4",
   "metadata": {},
   "outputs": [
    {
     "data": {
      "text/plain": [
       "np.True_"
      ]
     },
     "execution_count": 12,
     "metadata": {},
     "output_type": "execute_result"
    }
   ],
   "source": [
    "analytical_value = fp.moment([A, B, C]) -fp.moment([A])*fp.moment([B, C]) - fp.moment([A, B])*fp.moment([C]) - fp.moment([A, C])*fp.moment([B]) +2*fp.moment([A])*fp.moment([B])*fp.moment([C])\n",
    "np.isclose(fp.free_cumulant([A, B, C]), analytical_value)"
   ]
  },
  {
   "cell_type": "code",
   "execution_count": 13,
   "id": "f818926f-385f-4d4d-b366-39232f2f580b",
   "metadata": {},
   "outputs": [],
   "source": [
    "# Centralizes varibles\n",
    "A, B, C, D = list(map(fp.centralize_operator, [A, B, C, D]))"
   ]
  },
  {
   "cell_type": "code",
   "execution_count": 14,
   "id": "7b6e66ce-0167-4d03-96f3-92a8b7656ff9",
   "metadata": {},
   "outputs": [
    {
     "data": {
      "text/plain": [
       "np.True_"
      ]
     },
     "execution_count": 14,
     "metadata": {},
     "output_type": "execute_result"
    }
   ],
   "source": [
    "analytical_value =  fp.moment([A, B, C, D]) -  fp.moment([A, B])*fp.moment([C, D]) - fp.moment([A, D])*fp.moment([B, C])\n",
    "np.isclose(fp.free_cumulant([A, B, C, D]), analytical_value)"
   ]
  },
  {
   "attachments": {},
   "cell_type": "markdown",
   "id": "e45cd0f1-06a8-4f9e-94b8-14a03342d878",
   "metadata": {},
   "source": [
    "$k_4(a_1, a_2, a_3, a_4) = \\varphi(a_1 a_2 a_3 a_4) - \\varphi(a_1 a_2)\\varphi(a_3 a_4)- \\varphi(a_1 a_4)\\varphi(a_2 a_3).$"
   ]
  },
  {
   "cell_type": "code",
   "execution_count": 15,
   "id": "a517bf04-a509-416a-b929-280311c6842a",
   "metadata": {},
   "outputs": [
    {
     "data": {
      "text/plain": [
       "np.complex128(-2.220446049250313e-16+5.551115123125783e-17j)"
      ]
     },
     "execution_count": 15,
     "metadata": {},
     "output_type": "execute_result"
    }
   ],
   "source": [
    "dim = 128\n",
    "A_haar = scp.stats.unitary_group.rvs(dim)\n",
    "A_haar = A_haar - np.diag(np.full(dim, np.trace(A_haar)))/dim\n",
    "B = np.diag(np.random.rand(dim))\n",
    "np.trace(A_haar)\n",
    "# A_haar = np.random.rand(dim, dim)/np.sqrt(dim)\n",
    "# A_haar = (A_haar + A_haar.conj().T)/np.sqrt(2)"
   ]
  },
  {
   "cell_type": "code",
   "execution_count": 16,
   "id": "22c491c4-ab98-4b8d-a0af-46ad656747c3",
   "metadata": {},
   "outputs": [
    {
     "data": {
      "text/plain": [
       "np.complex128(-0.00036856019956016395+4.113045243775488e-20j)"
      ]
     },
     "execution_count": 16,
     "metadata": {},
     "output_type": "execute_result"
    }
   ],
   "source": [
    "fp.free_cumulant([A_haar.conj().T@B@A_haar, B])"
   ]
  },
  {
   "cell_type": "code",
   "execution_count": 17,
   "id": "5b880d17-b92f-47a0-b014-5d69a4ccb555",
   "metadata": {},
   "outputs": [
    {
     "data": {
      "text/plain": [
       "np.complex128(5.700362517442603e-05-6.954731091697997e-21j)"
      ]
     },
     "execution_count": 17,
     "metadata": {},
     "output_type": "execute_result"
    }
   ],
   "source": [
    "fp.free_cumulant([A_haar.conj().T@B@A_haar, B, A_haar.conj().T@B@A_haar, B])"
   ]
  },
  {
   "cell_type": "code",
   "execution_count": 18,
   "id": "ec289aa9-8cf7-40dd-9fb7-cdf8147b91f7",
   "metadata": {},
   "outputs": [
    {
     "data": {
      "text/plain": [
       "np.complex128(0.07409383840991157+1.755098958975528e-19j)"
      ]
     },
     "execution_count": 18,
     "metadata": {},
     "output_type": "execute_result"
    }
   ],
   "source": [
    "fp.free_cumulant([A_haar.conj().T@B@A_haar, A_haar.conj().T@B@A_haar])"
   ]
  },
  {
   "cell_type": "code",
   "execution_count": null,
   "id": "480297b9-7262-414e-80ed-2bf03a190245",
   "metadata": {},
   "outputs": [],
   "source": []
  }
 ],
 "metadata": {
  "kernelspec": {
   "display_name": "eth_kernel",
   "language": "python",
   "name": "eth_kernel"
  },
  "language_info": {
   "codemirror_mode": {
    "name": "ipython",
    "version": 3
   },
   "file_extension": ".py",
   "mimetype": "text/x-python",
   "name": "python",
   "nbconvert_exporter": "python",
   "pygments_lexer": "ipython3",
   "version": "3.13.1"
  },
  "scenes_data": {
   "active_scene": "Default Scene",
   "init_scene": "",
   "scenes": [
    "Default Scene"
   ]
  }
 },
 "nbformat": 4,
 "nbformat_minor": 5
}
